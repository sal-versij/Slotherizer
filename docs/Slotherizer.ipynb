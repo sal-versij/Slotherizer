{
 "cells": [
  {
   "cell_type": "markdown",
   "id": "a19242e0",
   "metadata": {},
   "source": [
    "# Slotherizer - quando ti secchi a leggere \n",
    "![](img/too-many-messages-i-welcome-the-pain.jpg)"
   ]
  },
  {
   "cell_type": "markdown",
   "id": "323467e7",
   "metadata": {},
   "source": [
    "Da oggi il problema è risolto, grazie ai riassunti automatici di Slotherizer"
   ]
  },
  {
   "cell_type": "markdown",
   "id": "935804ea",
   "metadata": {},
   "source": [
    "## Pipeline \n",
    "![](img/pipeline.jpg)\n"
   ]
  },
  {
   "cell_type": "markdown",
   "id": "c0b03f84",
   "metadata": {},
   "source": [
    "## Bot\n",
    "La piattaforma per cui abbiamo ideato Slotherizer è Discord. \n",
    "Tramite la libreria python discord.py abbiamo realizzato un programma che si interfaccia con un bot discord, creato a priori, mettendosi in ascolto di comandi inviati nei canali in cui è stato aggiunto.\n",
    "\n",
    "Quando riceve il comando\n",
    "```\n",
    "!slotherizer <n>\n",
    "```\n",
    "recupera gli ultimi `n` messaggi ed alcune informazioni utili come il **canale** e gli **utente** che hanno scritto i messaggi insieme ale **date** dei singoli messaggi e li inoltra nella pipeline, scrivendoli in un file di log. \n",
    "Successivamente dopo il processamento dei dati riceverà una risposta da Kafka contenente il riassunto dei messaggi da inoltrare nella chat.\n"
   ]
  },
  {
   "cell_type": "markdown",
   "id": "4e86b3be",
   "metadata": {},
   "source": [
    "## Data ingestion\n",
    "Abbiamo utilizzato logstash per fare batch data ingestion. \n",
    "Recuperando i dati dal file su cui discord scrive e inviandoli simultaneamente sia a Kafka che a elasticsearch\n"
   ]
  },
  {
   "cell_type": "markdown",
   "id": "ff6ef09e",
   "metadata": {},
   "source": [
    "## Event streaming\n",
    "Abbiamo utilizzato Kafka per gestire il flow dei dati.\n",
    "\n",
    "In una prima fase dirigerà gli eventi di logstash verso Spark.\n",
    "\n",
    "Successivamente da Spark verso il programma del bot Discord."
   ]
  },
  {
   "cell_type": "markdown",
   "id": "348cb3ab",
   "metadata": {},
   "source": [
    "## Stream processing\n",
    "Abbiamo utilizzato Spark per modellare i dati in entrata in un formato compatibile con l'API di OpenAI per il riassunto che poi inoltreremo indietro a Kafka.\n",
    "\n",
    "### OpenAI - GPT-3\n",
    "OpenAI è una compagnia che ricerca e sviluppa inteligenze artificiali e mette a disposizione alcuni modelli basati su GPT-3 che riescono a completare un testo in modo sensibile al contesto.\n",
    "\n",
    "Nel nostro caso dando come linea finale **Tl;Dr** completerà l'input con un riassunto dello stesso. \n",
    "\n",
    "\n",
    "\n",
    "\n"
   ]
  },
  {
   "cell_type": "markdown",
   "id": "3b70296c",
   "metadata": {},
   "source": [
    "## Data visualization\n",
    "Abbiamo utilizzato lo standard ELK per il recupero, salvataggio e la visualizzazione di dati allo scopo di monitorare il funzionamento del ristema.\n",
    "\n",
    "\n",
    "![DASHBOARD]()"
   ]
  }
 ],
 "metadata": {
  "language_info": {
   "name": "python"
  }
 },
 "nbformat": 4,
 "nbformat_minor": 5
}
